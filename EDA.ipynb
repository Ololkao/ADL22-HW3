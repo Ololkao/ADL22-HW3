{
 "cells": [
  {
   "cell_type": "code",
   "execution_count": null,
   "metadata": {},
   "outputs": [],
   "source": [
    "#%pip install ipykernel"
   ]
  },
  {
   "cell_type": "code",
   "execution_count": 1,
   "metadata": {},
   "outputs": [],
   "source": [
    "import jsonlines\n",
    "import random\n",
    "random.seed(42)\n",
    "\n",
    "train = \"./dataset/train\"\n",
    "public = \"./dataset/public\"\n",
    "postfix = \".jsonl\""
   ]
  },
  {
   "cell_type": "markdown",
   "metadata": {},
   "source": [
    "train-test split"
   ]
  },
  {
   "cell_type": "code",
   "execution_count": 2,
   "metadata": {},
   "outputs": [],
   "source": [
    "# keep sample test on the top and shuffle remaining public data\n",
    "data = []\n",
    "with jsonlines.open(f\"{public}{postfix}\", 'r') as reader:\n",
    "    for obj in reader: data.append(obj)\n",
    "temp = data[:10]\n",
    "del data[:10]\n",
    "random.shuffle(data)\n",
    "data = temp + data\n",
    "\n",
    "# split test part with no gt title and save it to another file\n",
    "TEST_LEN = int(len(data) * 0.5)\n",
    "title_list, id_list = [], []\n",
    "with jsonlines.open(f\"./dataset/test{postfix}\", 'w') as writer:\n",
    "    for line in data[:TEST_LEN]:\n",
    "        title, id = line.pop('title'), line['id']\n",
    "        title_list.append(title)\n",
    "        id_list.append(id)\n",
    "        writer.write(line)\n",
    "with jsonlines.open(f\"./dataset/test_gt{postfix}\", 'w') as writer:\n",
    "    for tilte, id in zip(title_list, id_list):\n",
    "        writer.write({\n",
    "            'title': tilte, 'id': id\n",
    "        })\n",
    "\n",
    "# split eval part for reasonable model training\n",
    "with jsonlines.open(f\"./dataset/eval{postfix}\", 'w') as writer:\n",
    "    for line in data[TEST_LEN:]:\n",
    "        writer.write(line)"
   ]
  },
  {
   "cell_type": "code",
   "execution_count": null,
   "metadata": {},
   "outputs": [],
   "source": []
  }
 ],
 "metadata": {
  "kernelspec": {
   "display_name": "Python 3.8.15 ('adl-hw3')",
   "language": "python",
   "name": "python3"
  },
  "language_info": {
   "codemirror_mode": {
    "name": "ipython",
    "version": 3
   },
   "file_extension": ".py",
   "mimetype": "text/x-python",
   "name": "python",
   "nbconvert_exporter": "python",
   "pygments_lexer": "ipython3",
   "version": "3.8.15"
  },
  "orig_nbformat": 4,
  "vscode": {
   "interpreter": {
    "hash": "96ac611bd7289883e2d2b1413d979a990077d87a335c50faa79f9fc5711e1e00"
   }
  }
 },
 "nbformat": 4,
 "nbformat_minor": 2
}
